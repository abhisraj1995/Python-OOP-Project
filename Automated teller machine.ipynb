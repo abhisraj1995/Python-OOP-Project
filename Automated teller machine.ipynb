{
 "cells": [
  {
   "cell_type": "code",
   "execution_count": 4,
   "id": "9158f8a0",
   "metadata": {},
   "outputs": [],
   "source": [
    "class Atm:\n",
    "    #variable declares\n",
    "    \n",
    "    #constructor--sepecial method code auto excecutes what so ever written inside the method\n",
    "    # Instance variable\n",
    "    \n",
    "    \n",
    "    def __init__(self):\n",
    "        self.__pin=''\n",
    "        self.__balance=0\n",
    "        \n",
    "        print(id(self))\n",
    "        \n",
    "        self.__menu()\n",
    "        \n",
    "        \n",
    "    def get_pin(self):\n",
    "        return self.__pin\n",
    "    \n",
    "    \n",
    "    def set_pin(self,new_pin):\n",
    "        if (type(new_pin))==str:\n",
    "            self.__pin=new_pin\n",
    "            print('pin changed')\n",
    "            \n",
    "        else:\n",
    "            print('not allowed')\n",
    "       \n",
    "    \n",
    "        \n",
    "    def __menu(self):\n",
    "        user_input=input('''\n",
    "                     hello, how would you like to proceed?\n",
    "                     1.Enter 1 to create pin\n",
    "                     2.Enter 2 to deposit\n",
    "                     3.Enter 3 to withdraw\n",
    "                     4.enter 4 to check balance\n",
    "                     5.enter 5 to exit\n",
    "        ''')\n",
    "        \n",
    "        if user_input== '1':\n",
    "            self.create_pin()\n",
    "        elif user_input=='2':\n",
    "            self.deposit()\n",
    "        elif user_input=='3':\n",
    "            self.withdraw()\n",
    "        elif user_input=='4':\n",
    "            self.check_balance()\n",
    "        else:\n",
    "            print('bye!!!!!')\n",
    "            \n",
    "            \n",
    "    def create_pin(self):\n",
    "        self.__pin=input('enter ur pin: = ')\n",
    "        print('Pin set successfully',self.__pin)\n",
    "        \n",
    "    def deposit(self):\n",
    "        temp=input('enter ur pin')\n",
    "        if temp==self.__pin:\n",
    "            \n",
    "            amount=int(input('enter the amount to deposit: = '))\n",
    "            self.__balance=self.__balance + amount\n",
    "            print('deposit successful!!!!')\n",
    "        else:\n",
    "            print('invalid pin')\n",
    "  \n",
    "    \n",
    "    def withdraw(self):\n",
    "        temp=input('enter ur pin')\n",
    "        if temp==self.__pin:\n",
    "            amount=int(input('enter the amount to withdraw: = '))\n",
    "            \n",
    "            if amount<self.__balance:\n",
    "                \n",
    "                self.__balance = self.__balance - amount\n",
    "                print('operation succesful')\n",
    "                \n",
    "            else:\n",
    "                print('insufficient funds')\n",
    "                \n",
    "        else:\n",
    "            print('invalid pin')\n",
    "        \n",
    "        \n",
    "    def check_balance(self):\n",
    "        \n",
    "        temp=input('enter ur pin')\n",
    "        \n",
    "        if temp==self.__pin:\n",
    "            print(self.__balance)\n",
    "            \n",
    "        else:\n",
    "            print('invalid pin')"
   ]
  },
  {
   "cell_type": "code",
   "execution_count": 8,
   "id": "7a0f1578",
   "metadata": {},
   "outputs": [
    {
     "name": "stdout",
     "output_type": "stream",
     "text": [
      "2795713822384\n",
      "\n",
      "                     hello, how would you like to proceed?\n",
      "                     1.Enter 1 to create pin\n",
      "                     2.Enter 2 to deposit\n",
      "                     3.Enter 3 to withdraw\n",
      "                     4.enter 4 to check balance\n",
      "                     5.enter 5 to exit\n",
      "        1\n",
      "enter ur pin: = 12345\n",
      "Pin set successfully 12345\n"
     ]
    }
   ],
   "source": [
    "sbi=Atm()"
   ]
  },
  {
   "cell_type": "code",
   "execution_count": 9,
   "id": "4bc138ca",
   "metadata": {},
   "outputs": [
    {
     "name": "stdout",
     "output_type": "stream",
     "text": [
      "enter ur pin12345\n",
      "enter the amount to deposit: = 1000\n",
      "deposit successful!!!!\n"
     ]
    }
   ],
   "source": [
    "sbi.deposit()"
   ]
  },
  {
   "cell_type": "code",
   "execution_count": 10,
   "id": "9ebfa35c",
   "metadata": {},
   "outputs": [
    {
     "name": "stdout",
     "output_type": "stream",
     "text": [
      "enter ur pin12345\n",
      "enter the amount to withdraw: = 999\n",
      "operation succesful\n"
     ]
    }
   ],
   "source": [
    "sbi.withdraw()"
   ]
  },
  {
   "cell_type": "code",
   "execution_count": 11,
   "id": "6cd16de7",
   "metadata": {},
   "outputs": [
    {
     "name": "stdout",
     "output_type": "stream",
     "text": [
      "enter ur pin12345\n",
      "1\n"
     ]
    }
   ],
   "source": [
    "sbi.check_balance()"
   ]
  },
  {
   "cell_type": "code",
   "execution_count": 12,
   "id": "b6be1efe",
   "metadata": {},
   "outputs": [
    {
     "data": {
      "text/plain": [
       "'12345'"
      ]
     },
     "execution_count": 12,
     "metadata": {},
     "output_type": "execute_result"
    }
   ],
   "source": [
    "sbi.get_pin()"
   ]
  },
  {
   "cell_type": "code",
   "execution_count": null,
   "id": "42885adc",
   "metadata": {},
   "outputs": [],
   "source": []
  }
 ],
 "metadata": {
  "kernelspec": {
   "display_name": "Python 3 (ipykernel)",
   "language": "python",
   "name": "python3"
  },
  "language_info": {
   "codemirror_mode": {
    "name": "ipython",
    "version": 3
   },
   "file_extension": ".py",
   "mimetype": "text/x-python",
   "name": "python",
   "nbconvert_exporter": "python",
   "pygments_lexer": "ipython3",
   "version": "3.9.13"
  }
 },
 "nbformat": 4,
 "nbformat_minor": 5
}
